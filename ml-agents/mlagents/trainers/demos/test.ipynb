{
 "cells": [
  {
   "cell_type": "code",
   "execution_count": 1,
   "metadata": {},
   "outputs": [
    {
     "name": "stdout",
     "output_type": "stream",
     "text": [
      "WARNING:tensorflow:\n",
      "The TensorFlow contrib module will not be included in TensorFlow 2.0.\n",
      "For more information, please see:\n",
      "  * https://github.com/tensorflow/community/blob/master/rfcs/20180907-contrib-sunset.md\n",
      "  * https://github.com/tensorflow/addons\n",
      "  * https://github.com/tensorflow/io (for I/O related ops)\n",
      "If you depend on functionality not listed there, please file an issue.\n",
      "\n"
     ]
    }
   ],
   "source": [
    "import numpy as np\n",
    "import tensorflow as tf\n",
    "import yaml\n",
    "import matplotlib.pyplot as plt\n",
    "from multiprocessing import Process, Queue\n",
    "\n",
    "from mlagents.trainers.ppo.models import PPOModel\n",
    "from mlagents.trainers.ppo.trainer import PPOTrainer, discount_rewards\n",
    "from mlagents.trainers.ppo.policy import PPOPolicy\n",
    "from mlagents.trainers.rl_trainer import AllRewardsOutput\n",
    "from mlagents.trainers.components.reward_signals import RewardSignalResult\n",
    "from mlagents.envs.brain import BrainParameters, CameraResolution\n",
    "from mlagents.envs.environment import UnityEnvironment\n",
    "from mlagents.envs.mock_communicator import MockCommunicator\n",
    "from mlagents.trainers.tests import mock_brain as mb\n",
    "from mlagents.trainers.tests.mock_brain import make_brain_parameters\n",
    "from mlagents.trainers.custom_layer_specs import CustomConvLayerSpecs\n",
    "\n",
    "from mlagents.trainers.learn import CommandLineOptions, parse_command_line, create_sampler_manager, try_create_meta_curriculum, prepare_for_docker_run, create_environment_factory"
   ]
  },
  {
   "cell_type": "code",
   "execution_count": 2,
   "metadata": {},
   "outputs": [],
   "source": [
    "\n",
    "env_name = \"../../../../../../ml-agents-master/envs/first_try_conv/Unity Environment\"\n"
   ]
  },
  {
   "cell_type": "code",
   "execution_count": 3,
   "metadata": {},
   "outputs": [],
   "source": [
    "def dummy_config():\n",
    "    return yaml.safe_load(\n",
    "        \"\"\"\n",
    "        trainer: ppo\n",
    "        batch_size: 32\n",
    "        beta: 5.0e-3\n",
    "        buffer_size: 512\n",
    "        epsilon: 0.2\n",
    "        hidden_units: 128\n",
    "        lambd: 0.95\n",
    "        learning_rate: 3.0e-4\n",
    "        vis_encode_type: custom\n",
    "        max_steps: 5.0e4\n",
    "        normalize: true\n",
    "        num_epoch: 5\n",
    "        num_layers: 2\n",
    "        time_horizon: 64\n",
    "        sequence_length: 64\n",
    "        summary_freq: 1000\n",
    "        use_recurrent: false\n",
    "        memory_size: 8\n",
    "        curiosity_strength: 0.0\n",
    "        curiosity_enc_size: 1\n",
    "        summary_path: test\n",
    "        model_path: test\n",
    "        reward_signals:\n",
    "          extrinsic:\n",
    "            strength: 1.0\n",
    "            gamma: 0.99\n",
    "        \"\"\"\n",
    "    )\n",
    "#         vis_encode_type: custom / simple"
   ]
  },
  {
   "cell_type": "code",
   "execution_count": 4,
   "metadata": {},
   "outputs": [
    {
     "name": "stdout",
     "output_type": "stream",
     "text": [
      "MonoBleedingEdge\n",
      "Unity Environment.exe\n",
      "Unity Environment_Data\n",
      "UnityCrashHandler64.exe\n",
      "UnityPlayer.dll\n",
      "WinPixEventRuntime.dll\n"
     ]
    }
   ],
   "source": [
    "# Check if it is the correct folder\n",
    "import os\n",
    "environment_dir = \"/\".join(env_name.split(\"/\")[:-1])\n",
    "for folder in os.listdir(environment_dir):\n",
    "    print(folder)\n"
   ]
  },
  {
   "cell_type": "code",
   "execution_count": 5,
   "metadata": {},
   "outputs": [
    {
     "name": "stderr",
     "output_type": "stream",
     "text": [
      "INFO:mlagents.envs:\n",
      "'Academy' started successfully!\n",
      "Unity Academy name: Academy\n",
      "        Number of Training Brains : 0\n",
      "        Reset Parameters :\n",
      "\t\t\n",
      "\n"
     ]
    }
   ],
   "source": [
    "env = UnityEnvironment(env_name)\n",
    "brain_infos = env.reset(train_mode=True)"
   ]
  },
  {
   "cell_type": "code",
   "execution_count": 6,
   "metadata": {},
   "outputs": [],
   "source": [
    "default_brain = env.external_brain_names[0]"
   ]
  },
  {
   "cell_type": "code",
   "execution_count": 7,
   "metadata": {},
   "outputs": [],
   "source": [
    "brain_info = brain_infos[default_brain]"
   ]
  },
  {
   "cell_type": "code",
   "execution_count": 8,
   "metadata": {},
   "outputs": [],
   "source": [
    "trainer_parameters = dummy_config()"
   ]
  },
  {
   "cell_type": "code",
   "execution_count": 9,
   "metadata": {},
   "outputs": [
    {
     "data": {
      "text/plain": [
       "{'trainer': 'ppo',\n",
       " 'batch_size': 32,\n",
       " 'beta': 0.005,\n",
       " 'buffer_size': 512,\n",
       " 'epsilon': 0.2,\n",
       " 'hidden_units': 128,\n",
       " 'lambd': 0.95,\n",
       " 'learning_rate': 0.0003,\n",
       " 'vis_encode_type': 'custom',\n",
       " 'max_steps': '5.0e4',\n",
       " 'normalize': True,\n",
       " 'num_epoch': 5,\n",
       " 'num_layers': 2,\n",
       " 'time_horizon': 64,\n",
       " 'sequence_length': 64,\n",
       " 'summary_freq': 1000,\n",
       " 'use_recurrent': False,\n",
       " 'memory_size': 8,\n",
       " 'curiosity_strength': 0.0,\n",
       " 'curiosity_enc_size': 1,\n",
       " 'summary_path': 'test',\n",
       " 'model_path': 'test',\n",
       " 'reward_signals': {'extrinsic': {'strength': 1.0, 'gamma': 0.99}}}"
      ]
     },
     "execution_count": 9,
     "metadata": {},
     "output_type": "execute_result"
    }
   ],
   "source": [
    "trainer_parameters"
   ]
  },
  {
   "cell_type": "code",
   "execution_count": 10,
   "metadata": {},
   "outputs": [],
   "source": [
    "trainer_parameters[\"layers_specs\"] = [\n",
    "    {\n",
    "        \"type\": \"conv2D\",\n",
    "        \"filters\": 32,\n",
    "        \"activation\": \"relu\",\n",
    "        \"use_bias\": True,\n",
    "        \"maxPool\": False,\n",
    "        \"kernel_shape\": (8,8),\n",
    "        \"strides\": (4,4),\n",
    "        \"kernel_initializer\": \"glorot_uniform\",\n",
    "        \"bias_initializer\": \"zeros\",\n",
    "    },\n",
    "    {\n",
    "        \"type\": \"conv2D\",\n",
    "        \"filters\": 32,\n",
    "        \"activation\": \"relu\",\n",
    "        \"use_bias\": True,\n",
    "        \"maxPool\": False,\n",
    "        \"kernel_shape\": (4,4),\n",
    "        \"strides\": (2,2),\n",
    "        \"kernel_initializer\": \"glorot_uniform\",\n",
    "        \"bias_initializer\": \"zeros\",\n",
    "    }\n",
    "]"
   ]
  },
  {
   "cell_type": "code",
   "execution_count": 11,
   "metadata": {},
   "outputs": [],
   "source": [
    "temp = trainer_parameters[\"layers_specs\"][0].copy()"
   ]
  },
  {
   "cell_type": "code",
   "execution_count": 12,
   "metadata": {},
   "outputs": [],
   "source": [
    "del temp[\"type\"]"
   ]
  },
  {
   "cell_type": "code",
   "execution_count": 13,
   "metadata": {},
   "outputs": [],
   "source": [
    "out = CustomConvLayerSpecs(**temp)"
   ]
  },
  {
   "cell_type": "code",
   "execution_count": 14,
   "metadata": {},
   "outputs": [
    {
     "data": {
      "text/plain": [
       "{'filters': 32,\n",
       " 'kernel_shape': (8, 8),\n",
       " 'strides': (4, 4),\n",
       " 'activation': 'relu',\n",
       " 'kernel_initializer': 'glorot_uniform',\n",
       " 'bias_initializer': 'zeros',\n",
       " 'use_bias': True,\n",
       " 'maxPool': False}"
      ]
     },
     "execution_count": 14,
     "metadata": {},
     "output_type": "execute_result"
    }
   ],
   "source": [
    "out.__dict__"
   ]
  },
  {
   "cell_type": "code",
   "execution_count": 15,
   "metadata": {},
   "outputs": [
    {
     "data": {
      "text/plain": [
       "['RollerBallVisualBrain']"
      ]
     },
     "execution_count": 15,
     "metadata": {},
     "output_type": "execute_result"
    }
   ],
   "source": [
    "env.external_brain_names"
   ]
  },
  {
   "cell_type": "code",
   "execution_count": null,
   "metadata": {},
   "outputs": [],
   "source": []
  },
  {
   "cell_type": "code",
   "execution_count": 16,
   "metadata": {},
   "outputs": [
    {
     "name": "stdout",
     "output_type": "stream",
     "text": [
      "WARNING:tensorflow:From c:\\users\\rick\\documents\\github\\ml-agents\\ml-agents\\mlagents\\trainers\\trainer.py:59: The name tf.summary.FileWriter is deprecated. Please use tf.compat.v1.summary.FileWriter instead.\n",
      "\n"
     ]
    },
    {
     "name": "stderr",
     "output_type": "stream",
     "text": [
      "WARNING:tensorflow:From c:\\users\\rick\\documents\\github\\ml-agents\\ml-agents\\mlagents\\trainers\\trainer.py:59: The name tf.summary.FileWriter is deprecated. Please use tf.compat.v1.summary.FileWriter instead.\n",
      "\n"
     ]
    },
    {
     "name": "stdout",
     "output_type": "stream",
     "text": [
      "WARNING:tensorflow:From c:\\users\\rick\\documents\\github\\ml-agents\\ml-agents\\mlagents\\trainers\\tf_policy.py:64: The name tf.ConfigProto is deprecated. Please use tf.compat.v1.ConfigProto instead.\n",
      "\n"
     ]
    },
    {
     "name": "stderr",
     "output_type": "stream",
     "text": [
      "WARNING:tensorflow:From c:\\users\\rick\\documents\\github\\ml-agents\\ml-agents\\mlagents\\trainers\\tf_policy.py:64: The name tf.ConfigProto is deprecated. Please use tf.compat.v1.ConfigProto instead.\n",
      "\n"
     ]
    },
    {
     "name": "stdout",
     "output_type": "stream",
     "text": [
      "WARNING:tensorflow:From c:\\users\\rick\\documents\\github\\ml-agents\\ml-agents\\mlagents\\trainers\\tf_policy.py:71: The name tf.Session is deprecated. Please use tf.compat.v1.Session instead.\n",
      "\n"
     ]
    },
    {
     "name": "stderr",
     "output_type": "stream",
     "text": [
      "WARNING:tensorflow:From c:\\users\\rick\\documents\\github\\ml-agents\\ml-agents\\mlagents\\trainers\\tf_policy.py:71: The name tf.Session is deprecated. Please use tf.compat.v1.Session instead.\n",
      "\n"
     ]
    },
    {
     "name": "stdout",
     "output_type": "stream",
     "text": [
      "WARNING:tensorflow:From c:\\users\\rick\\documents\\github\\ml-agents\\ml-agents\\mlagents\\trainers\\models.py:40: The name tf.set_random_seed is deprecated. Please use tf.compat.v1.set_random_seed instead.\n",
      "\n"
     ]
    },
    {
     "name": "stderr",
     "output_type": "stream",
     "text": [
      "WARNING:tensorflow:From c:\\users\\rick\\documents\\github\\ml-agents\\ml-agents\\mlagents\\trainers\\models.py:40: The name tf.set_random_seed is deprecated. Please use tf.compat.v1.set_random_seed instead.\n",
      "\n"
     ]
    },
    {
     "name": "stdout",
     "output_type": "stream",
     "text": [
      "WARNING:tensorflow:From c:\\users\\rick\\documents\\github\\ml-agents\\ml-agents\\mlagents\\trainers\\models.py:99: The name tf.placeholder is deprecated. Please use tf.compat.v1.placeholder instead.\n",
      "\n"
     ]
    },
    {
     "name": "stderr",
     "output_type": "stream",
     "text": [
      "WARNING:tensorflow:From c:\\users\\rick\\documents\\github\\ml-agents\\ml-agents\\mlagents\\trainers\\models.py:99: The name tf.placeholder is deprecated. Please use tf.compat.v1.placeholder instead.\n",
      "\n"
     ]
    },
    {
     "name": "stdout",
     "output_type": "stream",
     "text": [
      "WARNING:tensorflow:From c:\\users\\rick\\documents\\github\\ml-agents\\ml-agents\\mlagents\\trainers\\models.py:102: The name tf.assign is deprecated. Please use tf.compat.v1.assign instead.\n",
      "\n"
     ]
    },
    {
     "name": "stderr",
     "output_type": "stream",
     "text": [
      "WARNING:tensorflow:From c:\\users\\rick\\documents\\github\\ml-agents\\ml-agents\\mlagents\\trainers\\models.py:102: The name tf.assign is deprecated. Please use tf.compat.v1.assign instead.\n",
      "\n"
     ]
    },
    {
     "name": "stdout",
     "output_type": "stream",
     "text": [
      "WARNING:tensorflow:From c:\\users\\rick\\documents\\github\\ml-agents\\ml-agents\\mlagents\\trainers\\models.py:182: The name tf.get_variable is deprecated. Please use tf.compat.v1.get_variable instead.\n",
      "\n"
     ]
    },
    {
     "name": "stderr",
     "output_type": "stream",
     "text": [
      "WARNING:tensorflow:From c:\\users\\rick\\documents\\github\\ml-agents\\ml-agents\\mlagents\\trainers\\models.py:182: The name tf.get_variable is deprecated. Please use tf.compat.v1.get_variable instead.\n",
      "\n"
     ]
    },
    {
     "name": "stdout",
     "output_type": "stream",
     "text": [
      "--check\n",
      "WARNING:tensorflow:From c:\\users\\rick\\documents\\github\\ml-agents\\ml-agents\\mlagents\\trainers\\models.py:318: The name tf.variable_scope is deprecated. Please use tf.compat.v1.variable_scope instead.\n",
      "\n"
     ]
    },
    {
     "name": "stderr",
     "output_type": "stream",
     "text": [
      "WARNING:tensorflow:From c:\\users\\rick\\documents\\github\\ml-agents\\ml-agents\\mlagents\\trainers\\models.py:318: The name tf.variable_scope is deprecated. Please use tf.compat.v1.variable_scope instead.\n",
      "\n"
     ]
    },
    {
     "name": "stdout",
     "output_type": "stream",
     "text": [
      "<mlagents.trainers.custom_layer_specs.CustomConvLayerSpecs object at 0x00000134A7781A88>\n",
      "WARNING:tensorflow:From c:\\users\\rick\\documents\\github\\ml-agents\\ml-agents\\mlagents\\trainers\\models.py:336: conv2d (from tensorflow.python.layers.convolutional) is deprecated and will be removed in a future version.\n",
      "Instructions for updating:\n",
      "Use `tf.keras.layers.Conv2D` instead.\n"
     ]
    },
    {
     "name": "stderr",
     "output_type": "stream",
     "text": [
      "WARNING:tensorflow:From c:\\users\\rick\\documents\\github\\ml-agents\\ml-agents\\mlagents\\trainers\\models.py:336: conv2d (from tensorflow.python.layers.convolutional) is deprecated and will be removed in a future version.\n",
      "Instructions for updating:\n",
      "Use `tf.keras.layers.Conv2D` instead.\n"
     ]
    },
    {
     "name": "stdout",
     "output_type": "stream",
     "text": [
      "WARNING:tensorflow:From C:\\Users\\rick\\Anaconda3\\lib\\site-packages\\tensorflow_core\\python\\layers\\convolutional.py:424: Layer.apply (from tensorflow.python.keras.engine.base_layer) is deprecated and will be removed in a future version.\n",
      "Instructions for updating:\n",
      "Please use `layer.__call__` method instead.\n"
     ]
    },
    {
     "name": "stderr",
     "output_type": "stream",
     "text": [
      "WARNING:tensorflow:From C:\\Users\\rick\\Anaconda3\\lib\\site-packages\\tensorflow_core\\python\\layers\\convolutional.py:424: Layer.apply (from tensorflow.python.keras.engine.base_layer) is deprecated and will be removed in a future version.\n",
      "Instructions for updating:\n",
      "Please use `layer.__call__` method instead.\n"
     ]
    },
    {
     "name": "stdout",
     "output_type": "stream",
     "text": [
      "<mlagents.trainers.custom_layer_specs.CustomConvLayerSpecs object at 0x00000134A7781F08>\n",
      "WARNING:tensorflow:From C:\\Users\\rick\\Anaconda3\\lib\\site-packages\\tensorflow_core\\contrib\\layers\\python\\layers\\layers.py:1634: flatten (from tensorflow.python.layers.core) is deprecated and will be removed in a future version.\n",
      "Instructions for updating:\n",
      "Use keras.layers.flatten instead.\n"
     ]
    },
    {
     "name": "stderr",
     "output_type": "stream",
     "text": [
      "WARNING:tensorflow:From C:\\Users\\rick\\Anaconda3\\lib\\site-packages\\tensorflow_core\\contrib\\layers\\python\\layers\\layers.py:1634: flatten (from tensorflow.python.layers.core) is deprecated and will be removed in a future version.\n",
      "Instructions for updating:\n",
      "Use keras.layers.flatten instead.\n"
     ]
    },
    {
     "name": "stdout",
     "output_type": "stream",
     "text": [
      "WARNING:tensorflow:From c:\\users\\rick\\documents\\github\\ml-agents\\ml-agents\\mlagents\\trainers\\models.py:248: dense (from tensorflow.python.layers.core) is deprecated and will be removed in a future version.\n",
      "Instructions for updating:\n",
      "Use keras.layers.Dense instead.\n"
     ]
    },
    {
     "name": "stderr",
     "output_type": "stream",
     "text": [
      "WARNING:tensorflow:From c:\\users\\rick\\documents\\github\\ml-agents\\ml-agents\\mlagents\\trainers\\models.py:248: dense (from tensorflow.python.layers.core) is deprecated and will be removed in a future version.\n",
      "Instructions for updating:\n",
      "Use keras.layers.Dense instead.\n"
     ]
    },
    {
     "name": "stdout",
     "output_type": "stream",
     "text": [
      "--check\n",
      "<mlagents.trainers.custom_layer_specs.CustomConvLayerSpecs object at 0x00000134A7781A88>\n",
      "<mlagents.trainers.custom_layer_specs.CustomConvLayerSpecs object at 0x00000134A7781F08>\n",
      "WARNING:tensorflow:From c:\\users\\rick\\documents\\github\\ml-agents\\ml-agents\\mlagents\\trainers\\ppo\\models.py:117: The name tf.AUTO_REUSE is deprecated. Please use tf.compat.v1.AUTO_REUSE instead.\n",
      "\n"
     ]
    },
    {
     "name": "stderr",
     "output_type": "stream",
     "text": [
      "WARNING:tensorflow:From c:\\users\\rick\\documents\\github\\ml-agents\\ml-agents\\mlagents\\trainers\\ppo\\models.py:117: The name tf.AUTO_REUSE is deprecated. Please use tf.compat.v1.AUTO_REUSE instead.\n",
      "\n"
     ]
    },
    {
     "name": "stdout",
     "output_type": "stream",
     "text": [
      "WARNING:tensorflow:From c:\\users\\rick\\documents\\github\\ml-agents\\ml-agents\\mlagents\\trainers\\ppo\\models.py:142: The name tf.log is deprecated. Please use tf.math.log instead.\n",
      "\n"
     ]
    },
    {
     "name": "stderr",
     "output_type": "stream",
     "text": [
      "WARNING:tensorflow:From c:\\users\\rick\\documents\\github\\ml-agents\\ml-agents\\mlagents\\trainers\\ppo\\models.py:142: The name tf.log is deprecated. Please use tf.math.log instead.\n",
      "\n"
     ]
    },
    {
     "name": "stdout",
     "output_type": "stream",
     "text": [
      "WARNING:tensorflow:From c:\\users\\rick\\documents\\github\\ml-agents\\ml-agents\\mlagents\\trainers\\models.py:115: The name tf.train.polynomial_decay is deprecated. Please use tf.compat.v1.train.polynomial_decay instead.\n",
      "\n"
     ]
    },
    {
     "name": "stderr",
     "output_type": "stream",
     "text": [
      "WARNING:tensorflow:From c:\\users\\rick\\documents\\github\\ml-agents\\ml-agents\\mlagents\\trainers\\models.py:115: The name tf.train.polynomial_decay is deprecated. Please use tf.compat.v1.train.polynomial_decay instead.\n",
      "\n"
     ]
    },
    {
     "name": "stdout",
     "output_type": "stream",
     "text": [
      "WARNING:tensorflow:From c:\\users\\rick\\documents\\github\\ml-agents\\ml-agents\\mlagents\\trainers\\ppo\\models.py:350: The name tf.squared_difference is deprecated. Please use tf.math.squared_difference instead.\n",
      "\n"
     ]
    },
    {
     "name": "stderr",
     "output_type": "stream",
     "text": [
      "WARNING:tensorflow:From c:\\users\\rick\\documents\\github\\ml-agents\\ml-agents\\mlagents\\trainers\\ppo\\models.py:350: The name tf.squared_difference is deprecated. Please use tf.math.squared_difference instead.\n",
      "\n"
     ]
    },
    {
     "name": "stdout",
     "output_type": "stream",
     "text": [
      "WARNING:tensorflow:From c:\\users\\rick\\documents\\github\\ml-agents\\ml-agents\\mlagents\\trainers\\ppo\\models.py:382: The name tf.train.AdamOptimizer is deprecated. Please use tf.compat.v1.train.AdamOptimizer instead.\n",
      "\n"
     ]
    },
    {
     "name": "stderr",
     "output_type": "stream",
     "text": [
      "WARNING:tensorflow:From c:\\users\\rick\\documents\\github\\ml-agents\\ml-agents\\mlagents\\trainers\\ppo\\models.py:382: The name tf.train.AdamOptimizer is deprecated. Please use tf.compat.v1.train.AdamOptimizer instead.\n",
      "\n"
     ]
    },
    {
     "name": "stdout",
     "output_type": "stream",
     "text": [
      "WARNING:tensorflow:From C:\\Users\\rick\\Anaconda3\\lib\\site-packages\\tensorflow_core\\python\\ops\\math_grad.py:1424: where (from tensorflow.python.ops.array_ops) is deprecated and will be removed in a future version.\n",
      "Instructions for updating:\n",
      "Use tf.where in 2.0, which has the same broadcast rule as np.where\n"
     ]
    },
    {
     "name": "stderr",
     "output_type": "stream",
     "text": [
      "WARNING:tensorflow:From C:\\Users\\rick\\Anaconda3\\lib\\site-packages\\tensorflow_core\\python\\ops\\math_grad.py:1424: where (from tensorflow.python.ops.array_ops) is deprecated and will be removed in a future version.\n",
      "Instructions for updating:\n",
      "Use tf.where in 2.0, which has the same broadcast rule as np.where\n"
     ]
    },
    {
     "name": "stdout",
     "output_type": "stream",
     "text": [
      "WARNING:tensorflow:From c:\\users\\rick\\documents\\github\\ml-agents\\ml-agents\\mlagents\\trainers\\tf_policy.py:91: The name tf.train.Saver is deprecated. Please use tf.compat.v1.train.Saver instead.\n",
      "\n"
     ]
    },
    {
     "name": "stderr",
     "output_type": "stream",
     "text": [
      "WARNING:tensorflow:From c:\\users\\rick\\documents\\github\\ml-agents\\ml-agents\\mlagents\\trainers\\tf_policy.py:91: The name tf.train.Saver is deprecated. Please use tf.compat.v1.train.Saver instead.\n",
      "\n"
     ]
    },
    {
     "name": "stdout",
     "output_type": "stream",
     "text": [
      "WARNING:tensorflow:From c:\\users\\rick\\documents\\github\\ml-agents\\ml-agents\\mlagents\\trainers\\tf_policy.py:92: The name tf.global_variables_initializer is deprecated. Please use tf.compat.v1.global_variables_initializer instead.\n",
      "\n"
     ]
    },
    {
     "name": "stderr",
     "output_type": "stream",
     "text": [
      "WARNING:tensorflow:From c:\\users\\rick\\documents\\github\\ml-agents\\ml-agents\\mlagents\\trainers\\tf_policy.py:92: The name tf.global_variables_initializer is deprecated. Please use tf.compat.v1.global_variables_initializer instead.\n",
      "\n"
     ]
    }
   ],
   "source": [
    "camera_resolution = CameraResolution(84,84,3)\n",
    "brain_params = BrainParameters(\n",
    "    \"test_brain\",        # brain_name\n",
    "    0,                   # vector_observation_space_size\n",
    "    0,                   # num_stacked_vector_observations\n",
    "    [camera_resolution], # camera_resolutions\n",
    "    [4],                 # vector_action_space_size\n",
    "    [],                  # vector_action_descriptions\n",
    "    1                    # vector_action_space_type\n",
    ")\n",
    "trainer = PPOTrainer(brain_params, 0, trainer_parameters, True, False, 0, \"0\", False)\n",
    "policy = trainer.policy\n",
    "model = policy.model\n",
    "# policy = PPOPolicy(0, env.brains[env.external_brain_names[0]], trainer_parameters, False, False)\n"
   ]
  },
  {
   "cell_type": "code",
   "execution_count": 17,
   "metadata": {},
   "outputs": [
    {
     "name": "stdout",
     "output_type": "stream",
     "text": [
      "<mlagents.envs.brain.BrainInfo object at 0x00000134A76F4748>\n"
     ]
    }
   ],
   "source": [
    "\n",
    "brain_info = brain_infos[default_brain]\n",
    "print(brain_info)"
   ]
  },
  {
   "cell_type": "code",
   "execution_count": 18,
   "metadata": {},
   "outputs": [
    {
     "name": "stdout",
     "output_type": "stream",
     "text": [
      "Agent observations look like:\n"
     ]
    },
    {
     "data": {
      "image/png": "[encoded data removed]",
      "text/plain": [
       "<Figure size 432x288 with 1 Axes>"
      ]
     },
     "metadata": {
      "needs_background": "light"
     },
     "output_type": "display_data"
    }
   ],
   "source": [
    "\n",
    "# Examine the observation space for the default brain\n",
    "for observation in brain_info.visual_observations:\n",
    "    print(\"Agent observations look like:\")\n",
    "    observation = np.array(observation)\n",
    "    if observation.shape[3] == 3:\n",
    "        plt.imshow(observation[0,:,:,:])\n",
    "    else:\n",
    "        plt.imshow(observation[0,:,:,0])"
   ]
  },
  {
   "cell_type": "code",
   "execution_count": null,
   "metadata": {},
   "outputs": [],
   "source": []
  },
  {
   "cell_type": "code",
   "execution_count": 19,
   "metadata": {},
   "outputs": [],
   "source": [
    "# trainer.policy.evaluate(brain_info)"
   ]
  },
  {
   "cell_type": "code",
   "execution_count": 20,
   "metadata": {},
   "outputs": [],
   "source": [
    "run_out = policy.get_value_estimates(brain_info, 0, done=False)"
   ]
  },
  {
   "cell_type": "code",
   "execution_count": 21,
   "metadata": {},
   "outputs": [],
   "source": [
    "run_out = policy.evaluate(brain_info)"
   ]
  },
  {
   "cell_type": "code",
   "execution_count": 22,
   "metadata": {},
   "outputs": [
    {
     "data": {
      "text/plain": [
       "(84, 84, 3)"
      ]
     },
     "execution_count": 22,
     "metadata": {},
     "output_type": "execute_result"
    }
   ],
   "source": [
    "brain_info.visual_observations[0][0].shape"
   ]
  },
  {
   "cell_type": "code",
   "execution_count": 23,
   "metadata": {},
   "outputs": [
    {
     "data": {
      "text/plain": [
       "{'action': array([[ 0.4699039 , -0.0422685 , -0.28713787,  0.24907106]],\n",
       "       dtype=float32),\n",
       " 'log_probs': array([[-1.904729 , -0.9266766, -1.288302 , -1.1981091]], dtype=float32),\n",
       " 'value_heads': {'extrinsic': array([[-0.0326346]], dtype=float32)},\n",
       " 'value': array([[-0.0326346]], dtype=float32),\n",
       " 'entropy': array([1.4189385], dtype=float32),\n",
       " 'learning_rate': 0.0003,\n",
       " 'pre_action': array([[ 1.4097116, -0.1268055, -0.8614136,  0.7472132]], dtype=float32),\n",
       " 'random_normal_epsilon': array([[ 1.40413   , -0.12440282, -0.85949221,  0.74722242]])}"
      ]
     },
     "execution_count": 23,
     "metadata": {},
     "output_type": "execute_result"
    }
   ],
   "source": [
    "run_out"
   ]
  },
  {
   "cell_type": "code",
   "execution_count": 24,
   "metadata": {},
   "outputs": [
    {
     "name": "stdout",
     "output_type": "stream",
     "text": [
      "action : [[ 0.4699039  -0.0422685  -0.28713787  0.24907106]]\n",
      "log_probs : [[-1.904729  -0.9266766 -1.288302  -1.1981091]]\n",
      "value_heads : {'extrinsic': array([[-0.0326346]], dtype=float32)}\n",
      "value : [[-0.0326346]]\n",
      "entropy : [1.4189385]\n",
      "learning_rate : 0.0003\n",
      "pre_action : [[ 1.4097116 -0.1268055 -0.8614136  0.7472132]]\n",
      "random_normal_epsilon : [[ 1.40413    -0.12440282 -0.85949221  0.74722242]]\n"
     ]
    }
   ],
   "source": [
    "for key, val in run_out.items():\n",
    "    print(key, \":\", val)"
   ]
  },
  {
   "cell_type": "code",
   "execution_count": 25,
   "metadata": {},
   "outputs": [
    {
     "data": {
      "text/plain": [
       "<tf.Tensor 'action:0' shape=(?, 4) dtype=float32>"
      ]
     },
     "execution_count": 25,
     "metadata": {},
     "output_type": "execute_result"
    }
   ],
   "source": [
    "model.output"
   ]
  },
  {
   "cell_type": "code",
   "execution_count": 26,
   "metadata": {},
   "outputs": [
    {
     "data": {
      "text/plain": [
       "<tf.Tensor 'vector_observation:0' shape=(?, 0) dtype=float32>"
      ]
     },
     "execution_count": 26,
     "metadata": {},
     "output_type": "execute_result"
    }
   ],
   "source": [
    "model.vector_in"
   ]
  },
  {
   "cell_type": "code",
   "execution_count": 27,
   "metadata": {},
   "outputs": [
    {
     "data": {
      "text/plain": [
       "<tf.Tensor 'visual_observation_0:0' shape=(?, 84, 84, 3) dtype=float32>"
      ]
     },
     "execution_count": 27,
     "metadata": {},
     "output_type": "execute_result"
    }
   ],
   "source": [
    "model.visual_in[0]"
   ]
  },
  {
   "cell_type": "code",
   "execution_count": 28,
   "metadata": {},
   "outputs": [
    {
     "data": {
      "text/plain": [
       "<tf.Tensor 'add_6:0' shape=(?, 4) dtype=float32>"
      ]
     },
     "execution_count": 28,
     "metadata": {},
     "output_type": "execute_result"
    }
   ],
   "source": [
    "model.output_pre"
   ]
  },
  {
   "cell_type": "code",
   "execution_count": 29,
   "metadata": {},
   "outputs": [],
   "source": [
    "# feed_dict = {\n",
    "#     policy.model.batch_size: 1,\n",
    "#     policy.model.sequence_length: 1,\n",
    "# }\n",
    "# for i in range(len(brain_info.visual_observations)):\n",
    "#     feed_dict[policy.model.visual_in[i]] = [\n",
    "#         brain_info.visual_observations[i][0]\n",
    "#     ]"
   ]
  },
  {
   "cell_type": "code",
   "execution_count": null,
   "metadata": {},
   "outputs": [],
   "source": []
  },
  {
   "cell_type": "code",
   "execution_count": null,
   "metadata": {},
   "outputs": [],
   "source": []
  },
  {
   "cell_type": "code",
   "execution_count": null,
   "metadata": {},
   "outputs": [],
   "source": []
  },
  {
   "cell_type": "code",
   "execution_count": 30,
   "metadata": {},
   "outputs": [
    {
     "name": "stderr",
     "output_type": "stream",
     "text": [
      "INFO:mlagents.envs:Environment shut down with return code 0 (CTRL_C_EVENT).\n"
     ]
    }
   ],
   "source": [
    "env.close()"
   ]
  },
  {
   "cell_type": "code",
   "execution_count": null,
   "metadata": {},
   "outputs": [],
   "source": []
  },
  {
   "cell_type": "code",
   "execution_count": 31,
   "metadata": {},
   "outputs": [],
   "source": [
    "\n",
    "trainer_config = dummy_config()\n",
    "trainer_config[\"layers_specs\"] = [\n",
    "    {\n",
    "        \"type\": \"conv2D\",\n",
    "        \"filters\": 32,\n",
    "        \"activation\": \"relu\",\n",
    "        \"use_bias\": True,\n",
    "        \"maxPool\": False,\n",
    "        \"kernel_shape\": (8,8),\n",
    "        \"strides\": (4,4),\n",
    "        \"kernel_initializer\": \"glorot_uniform\",\n",
    "        \"bias_initializer\": \"zeros\",\n",
    "    },\n",
    "    {\n",
    "        \"type\": \"conv2D\",\n",
    "        \"filters\": 32,\n",
    "        \"activation\": \"relu\",\n",
    "        \"use_bias\": True,\n",
    "        \"maxPool\": False,\n",
    "        \"kernel_shape\": (4,4),\n",
    "        \"strides\": (2,2),\n",
    "        \"kernel_initializer\": \"glorot_uniform\",\n",
    "        \"bias_initializer\": \"zeros\",\n",
    "    }\n",
    "]\n",
    "trainer_config = {\n",
    "    \"default\": trainer_config\n",
    "}"
   ]
  },
  {
   "cell_type": "code",
   "execution_count": 32,
   "metadata": {},
   "outputs": [],
   "source": [
    "defaultCommandLineOptionsDict = {\n",
    "    \"debug\":False,\n",
    "    \"num_runs\": 1,\n",
    "    \"seed\": -1,\n",
    "    \"env_path\": env_name,\n",
    "    \"run_id\": \"ppo_test\",\n",
    "    \"load_model\": False,\n",
    "    \"train_model\": True,\n",
    "    \"save_freq\": 50000,\n",
    "    \"keep_checkpoints\": 5,\n",
    "    \"base_port\": 5005,\n",
    "    \"num_envs\": 1,\n",
    "    \"curriculum_folder\": None,\n",
    "    \"lesson\": 0,\n",
    "    \"slow\": False,\n",
    "    \"no_graphics\": False,\n",
    "    \"multi_gpu\": False,  \n",
    "    \"trainer_config_path\": \"boeit niet meer\",\n",
    "    \"sampler_file_path\": None,\n",
    "    \"docker_target_name\": None,\n",
    "    \"env_args\": None,\n",
    "    \"cpu\": False,\n",
    "}\n",
    "defaultCommandLineOptions = CommandLineOptions(**defaultCommandLineOptionsDict)"
   ]
  },
  {
   "cell_type": "code",
   "execution_count": 33,
   "metadata": {},
   "outputs": [],
   "source": [
    "# # Unity ML-Agents Toolkit\n",
    "import logging\n",
    "import argparse\n",
    "\n",
    "from multiprocessing import Process, Queue\n",
    "import os\n",
    "import glob\n",
    "import shutil\n",
    "import numpy as np\n",
    "\n",
    "from typing import Any, Callable, Optional, List, NamedTuple\n",
    "\n",
    "\n",
    "from mlagents.trainers.trainer_controller import TrainerController\n",
    "from mlagents.trainers.exception import TrainerError\n",
    "from mlagents.trainers.meta_curriculum import MetaCurriculum\n",
    "from mlagents.trainers.trainer_util import load_config, TrainerFactory\n",
    "from mlagents.envs.environment import UnityEnvironment\n",
    "from mlagents.envs.sampler_class import SamplerManager\n",
    "from mlagents.envs.exception import SamplerException\n",
    "from mlagents.envs.base_unity_environment import BaseUnityEnvironment\n",
    "from mlagents.envs.subprocess_env_manager import SubprocessEnvManager\n"
   ]
  },
  {
   "cell_type": "code",
   "execution_count": 34,
   "metadata": {},
   "outputs": [],
   "source": [
    "def run_training(sub_id: int, run_seed: int, options: CommandLineOptions, process_queue: Queue, trainer_config):\n",
    "    curriculum_folder = options.curriculum_folder\n",
    "    # Recognize and use docker volume if one is passed as an argument\n",
    "    if not options.docker_target_name:\n",
    "        model_path = \"./models/{run_id}-{sub_id}\".format(\n",
    "            run_id=options.run_id, sub_id=sub_id\n",
    "        )\n",
    "        summaries_dir = \"./summaries\"\n",
    "    else:\n",
    "        if curriculum_folder is not None:\n",
    "            curriculum_folder = \"/{docker_target_name}/{curriculum_folder}\".format(\n",
    "                docker_target_name=options.docker_target_name,\n",
    "                curriculum_folder=curriculum_folder,\n",
    "            )\n",
    "        model_path = \"/{docker_target_name}/models/{run_id}-{sub_id}\".format(\n",
    "            docker_target_name=options.docker_target_name,\n",
    "            run_id=options.run_id,\n",
    "            sub_id=sub_id,\n",
    "        )\n",
    "        summaries_dir = \"/{docker_target_name}/summaries\".format(\n",
    "            docker_target_name=options.docker_target_name\n",
    "        )\n",
    "    port = options.base_port + (sub_id * options.num_envs)\n",
    "    if options.env_path is None:\n",
    "        port = 5004  # This is the in Editor Training Port\n",
    "    env_factory = create_environment_factory(\n",
    "        options.env_path,\n",
    "        options.docker_target_name,\n",
    "        options.no_graphics,\n",
    "        run_seed,\n",
    "        port,\n",
    "        options.env_args,\n",
    "    )\n",
    "    env = SubprocessEnvManager(env_factory, options.num_envs)\n",
    "    maybe_meta_curriculum = try_create_meta_curriculum(\n",
    "        curriculum_folder, env, options.lesson\n",
    "    )\n",
    "    sampler_manager, resampling_interval = create_sampler_manager(\n",
    "        options.sampler_file_path, env.reset_parameters, run_seed\n",
    "    )\n",
    "    trainer_factory = TrainerFactory(\n",
    "        trainer_config,\n",
    "        summaries_dir,\n",
    "        options.run_id,\n",
    "        model_path,\n",
    "        options.keep_checkpoints,\n",
    "        options.train_model,\n",
    "        options.load_model,\n",
    "        run_seed,\n",
    "        maybe_meta_curriculum,\n",
    "        options.multi_gpu,\n",
    "    )\n",
    "    # Create controller and begin training.\n",
    "    tc = TrainerController(\n",
    "        trainer_factory,\n",
    "        model_path,\n",
    "        summaries_dir,\n",
    "        options.run_id + \"-\" + str(sub_id),\n",
    "        options.save_freq,\n",
    "        maybe_meta_curriculum,\n",
    "        options.train_model,\n",
    "        run_seed,\n",
    "        options.fast_simulation,\n",
    "        sampler_manager,\n",
    "        resampling_interval,\n",
    "    )\n",
    "    # Signal that environment has been launched.\n",
    "    process_queue.put(True)\n",
    "    # Begin training\n",
    "    tc.start_learning(env)"
   ]
  },
  {
   "cell_type": "code",
   "execution_count": 35,
   "metadata": {},
   "outputs": [
    {
     "name": "stdout",
     "output_type": "stream",
     "text": [
      "WARNING:tensorflow:From c:\\users\\rick\\documents\\github\\ml-agents\\ml-agents\\mlagents\\trainers\\trainer_controller.py:194: The name tf.reset_default_graph is deprecated. Please use tf.compat.v1.reset_default_graph instead.\n",
      "\n"
     ]
    },
    {
     "name": "stderr",
     "output_type": "stream",
     "text": [
      "WARNING:tensorflow:From c:\\users\\rick\\documents\\github\\ml-agents\\ml-agents\\mlagents\\trainers\\trainer_controller.py:194: The name tf.reset_default_graph is deprecated. Please use tf.compat.v1.reset_default_graph instead.\n",
      "\n"
     ]
    },
    {
     "name": "stdout",
     "output_type": "stream",
     "text": [
      "--check\n",
      "<mlagents.trainers.custom_layer_specs.CustomConvLayerSpecs object at 0x00000134DBA803C8>\n",
      "<mlagents.trainers.custom_layer_specs.CustomConvLayerSpecs object at 0x00000134DBA80888>\n",
      "WARNING:tensorflow:From c:\\users\\rick\\documents\\github\\ml-agents\\ml-agents\\mlagents\\trainers\\models.py:501: multinomial (from tensorflow.python.ops.random_ops) is deprecated and will be removed in a future version.\n",
      "Instructions for updating:\n",
      "Use `tf.random.categorical` instead.\n"
     ]
    },
    {
     "name": "stderr",
     "output_type": "stream",
     "text": [
      "WARNING:tensorflow:From c:\\users\\rick\\documents\\github\\ml-agents\\ml-agents\\mlagents\\trainers\\models.py:501: multinomial (from tensorflow.python.ops.random_ops) is deprecated and will be removed in a future version.\n",
      "Instructions for updating:\n",
      "Use `tf.random.categorical` instead.\n",
      "INFO:mlagents.envs:Hyperparameters for the PPOTrainer of brain RollerBallVisualBrain: \n",
      "\ttrainer:\tppo\n",
      "\tbatch_size:\t32\n",
      "\tbeta:\t0.005\n",
      "\tbuffer_size:\t512\n",
      "\tepsilon:\t0.2\n",
      "\thidden_units:\t128\n",
      "\tlambd:\t0.95\n",
      "\tlearning_rate:\t0.0003\n",
      "\tvis_encode_type:\tcustom\n",
      "\tmax_steps:\t5.0e4\n",
      "\tnormalize:\tTrue\n",
      "\tnum_epoch:\t5\n",
      "\tnum_layers:\t2\n",
      "\ttime_horizon:\t64\n",
      "\tsequence_length:\t64\n",
      "\tsummary_freq:\t1000\n",
      "\tuse_recurrent:\tFalse\n",
      "\tmemory_size:\t8\n",
      "\tcuriosity_strength:\t0.0\n",
      "\tcuriosity_enc_size:\t1\n",
      "\tsummary_path:\t./summaries/ppo_test_RollerBallVisualBrain\n",
      "\tmodel_path:\t./models/ppo_test-0/RollerBallVisualBrain\n",
      "\treward_signals:\t\n",
      "\t  extrinsic:\t\n",
      "\t    strength:\t1.0\n",
      "\t    gamma:\t0.99\n",
      "\tlayers_specs:\t[{'type': 'conv2D', 'filters': 32, 'activation': 'relu', 'use_bias': True, 'maxPool': False, 'kernel_shape': (8, 8), 'strides': (4, 4), 'kernel_initializer': 'glorot_uniform', 'bias_initializer': 'zeros'}, {'type': 'conv2D', 'filters': 32, 'activation': 'relu', 'use_bias': True, 'maxPool': False, 'kernel_shape': (4, 4), 'strides': (2, 2), 'kernel_initializer': 'glorot_uniform', 'bias_initializer': 'zeros'}]\n",
      "\tkeep_checkpoints:\t5\n"
     ]
    },
    {
     "name": "stdout",
     "output_type": "stream",
     "text": [
      "WARNING:tensorflow:From c:\\users\\rick\\documents\\github\\ml-agents\\ml-agents\\mlagents\\trainers\\trainer.py:223: The name tf.summary.text is deprecated. Please use tf.compat.v1.summary.text instead.\n",
      "\n"
     ]
    },
    {
     "name": "stderr",
     "output_type": "stream",
     "text": [
      "WARNING:tensorflow:From c:\\users\\rick\\documents\\github\\ml-agents\\ml-agents\\mlagents\\trainers\\trainer.py:223: The name tf.summary.text is deprecated. Please use tf.compat.v1.summary.text instead.\n",
      "\n",
      "INFO:mlagents.trainers: ppo_test: RollerBallVisualBrain: Step: 1000. Time Elapsed: 9.948 s Mean Reward: -0.600. Std of Reward: 0.800. Training.\n"
     ]
    },
    {
     "name": "stdout",
     "output_type": "stream",
     "text": [
      "WARNING:tensorflow:From c:\\users\\rick\\documents\\github\\ml-agents\\ml-agents\\mlagents\\trainers\\trainer.py:204: The name tf.Summary is deprecated. Please use tf.compat.v1.Summary instead.\n",
      "\n"
     ]
    },
    {
     "name": "stderr",
     "output_type": "stream",
     "text": [
      "WARNING:tensorflow:From c:\\users\\rick\\documents\\github\\ml-agents\\ml-agents\\mlagents\\trainers\\trainer.py:204: The name tf.Summary is deprecated. Please use tf.compat.v1.Summary instead.\n",
      "\n",
      "INFO:mlagents.trainers: ppo_test: RollerBallVisualBrain: Step: 2000. Time Elapsed: 19.046 s Mean Reward: -0.660. Std of Reward: 0.751. Training.\n",
      "INFO:mlagents.trainers: ppo_test: RollerBallVisualBrain: Step: 3000. Time Elapsed: 27.580 s Mean Reward: -0.774. Std of Reward: 0.634. Training.\n",
      "INFO:mlagents.trainers: ppo_test: RollerBallVisualBrain: Step: 4000. Time Elapsed: 36.074 s Mean Reward: -0.804. Std of Reward: 0.595. Training.\n",
      "INFO:mlagents.trainers: ppo_test: RollerBallVisualBrain: Step: 5000. Time Elapsed: 44.493 s Mean Reward: -0.614. Std of Reward: 0.789. Training.\n",
      "INFO:mlagents.trainers: ppo_test: RollerBallVisualBrain: Step: 6000. Time Elapsed: 52.276 s Mean Reward: -0.538. Std of Reward: 0.843. Training.\n",
      "INFO:mlagents.trainers: ppo_test: RollerBallVisualBrain: Step: 7000. Time Elapsed: 60.727 s Mean Reward: -0.640. Std of Reward: 0.768. Training.\n",
      "INFO:mlagents.trainers: ppo_test: RollerBallVisualBrain: Step: 8000. Time Elapsed: 69.097 s Mean Reward: -0.542. Std of Reward: 0.841. Training.\n",
      "INFO:mlagents.trainers: ppo_test: RollerBallVisualBrain: Step: 9000. Time Elapsed: 77.569 s Mean Reward: -0.625. Std of Reward: 0.781. Training.\n",
      "INFO:mlagents.trainers: ppo_test: RollerBallVisualBrain: Step: 10000. Time Elapsed: 85.395 s Mean Reward: -0.689. Std of Reward: 0.725. Training.\n",
      "INFO:mlagents.trainers: ppo_test: RollerBallVisualBrain: Step: 11000. Time Elapsed: 93.927 s Mean Reward: -0.745. Std of Reward: 0.667. Training.\n",
      "INFO:mlagents.trainers: ppo_test: RollerBallVisualBrain: Step: 12000. Time Elapsed: 102.477 s Mean Reward: -0.769. Std of Reward: 0.639. Training.\n",
      "INFO:mlagents.trainers: ppo_test: RollerBallVisualBrain: Step: 13000. Time Elapsed: 110.972 s Mean Reward: -0.755. Std of Reward: 0.656. Training.\n",
      "INFO:mlagents.trainers: ppo_test: RollerBallVisualBrain: Step: 14000. Time Elapsed: 119.424 s Mean Reward: -0.615. Std of Reward: 0.788. Training.\n",
      "INFO:mlagents.trainers: ppo_test: RollerBallVisualBrain: Step: 15000. Time Elapsed: 127.436 s Mean Reward: -0.649. Std of Reward: 0.761. Training.\n",
      "INFO:mlagents.trainers: ppo_test: RollerBallVisualBrain: Step: 16000. Time Elapsed: 135.998 s Mean Reward: -0.679. Std of Reward: 0.735. Training.\n",
      "INFO:mlagents.trainers: ppo_test: RollerBallVisualBrain: Step: 17000. Time Elapsed: 144.469 s Mean Reward: -0.655. Std of Reward: 0.755. Training.\n",
      "INFO:mlagents.trainers: ppo_test: RollerBallVisualBrain: Step: 18000. Time Elapsed: 152.937 s Mean Reward: -0.600. Std of Reward: 0.800. Training.\n",
      "INFO:mlagents.trainers: ppo_test: RollerBallVisualBrain: Step: 19000. Time Elapsed: 161.377 s Mean Reward: -0.429. Std of Reward: 0.904. Training.\n",
      "INFO:mlagents.trainers: ppo_test: RollerBallVisualBrain: Step: 20000. Time Elapsed: 169.196 s Mean Reward: -0.636. Std of Reward: 0.771. Training.\n",
      "INFO:mlagents.trainers: ppo_test: RollerBallVisualBrain: Step: 21000. Time Elapsed: 177.650 s Mean Reward: -0.643. Std of Reward: 0.766. Training.\n",
      "INFO:mlagents.trainers: ppo_test: RollerBallVisualBrain: Step: 22000. Time Elapsed: 186.089 s Mean Reward: -0.469. Std of Reward: 0.883. Training.\n",
      "INFO:mlagents.trainers: ppo_test: RollerBallVisualBrain: Step: 23000. Time Elapsed: 194.555 s Mean Reward: -0.493. Std of Reward: 0.870. Training.\n",
      "INFO:mlagents.trainers: ppo_test: RollerBallVisualBrain: Step: 24000. Time Elapsed: 203.017 s Mean Reward: -0.516. Std of Reward: 0.857. Training.\n",
      "INFO:mlagents.trainers: ppo_test: RollerBallVisualBrain: Step: 25000. Time Elapsed: 210.809 s Mean Reward: -0.290. Std of Reward: 0.957. Training.\n",
      "INFO:mlagents.trainers: ppo_test: RollerBallVisualBrain: Step: 26000. Time Elapsed: 219.276 s Mean Reward: -0.361. Std of Reward: 0.933. Training.\n",
      "INFO:mlagents.trainers: ppo_test: RollerBallVisualBrain: Step: 27000. Time Elapsed: 227.720 s Mean Reward: -0.316. Std of Reward: 0.949. Training.\n",
      "INFO:mlagents.trainers: ppo_test: RollerBallVisualBrain: Step: 28000. Time Elapsed: 236.192 s Mean Reward: -0.169. Std of Reward: 0.986. Training.\n",
      "INFO:mlagents.trainers: ppo_test: RollerBallVisualBrain: Step: 29000. Time Elapsed: 244.047 s Mean Reward: -0.179. Std of Reward: 0.984. Training.\n",
      "INFO:mlagents.trainers: ppo_test: RollerBallVisualBrain: Step: 30000. Time Elapsed: 252.557 s Mean Reward: -0.152. Std of Reward: 0.988. Training.\n",
      "INFO:mlagents.trainers: ppo_test: RollerBallVisualBrain: Step: 31000. Time Elapsed: 261.075 s Mean Reward: -0.176. Std of Reward: 0.984. Training.\n",
      "INFO:mlagents.trainers: ppo_test: RollerBallVisualBrain: Step: 32000. Time Elapsed: 269.568 s Mean Reward: -0.159. Std of Reward: 0.987. Training.\n",
      "INFO:mlagents.trainers: ppo_test: RollerBallVisualBrain: Step: 33000. Time Elapsed: 277.382 s Mean Reward: -0.055. Std of Reward: 0.998. Training.\n",
      "INFO:mlagents.trainers: ppo_test: RollerBallVisualBrain: Step: 34000. Time Elapsed: 285.859 s Mean Reward: -0.087. Std of Reward: 0.996. Training.\n",
      "INFO:mlagents.trainers: ppo_test: RollerBallVisualBrain: Step: 35000. Time Elapsed: 294.296 s Mean Reward: -0.171. Std of Reward: 0.985. Training.\n",
      "INFO:mlagents.trainers: ppo_test: RollerBallVisualBrain: Step: 36000. Time Elapsed: 302.200 s Mean Reward: -0.031. Std of Reward: 1.000. Training.\n",
      "INFO:mlagents.trainers: ppo_test: RollerBallVisualBrain: Step: 37000. Time Elapsed: 310.706 s Mean Reward: -0.063. Std of Reward: 0.998. Training.\n",
      "INFO:mlagents.trainers: ppo_test: RollerBallVisualBrain: Step: 38000. Time Elapsed: 319.193 s Mean Reward: -0.082. Std of Reward: 0.997. Training.\n",
      "INFO:mlagents.trainers: ppo_test: RollerBallVisualBrain: Step: 39000. Time Elapsed: 327.613 s Mean Reward: -0.051. Std of Reward: 0.999. Training.\n",
      "INFO:mlagents.trainers: ppo_test: RollerBallVisualBrain: Step: 40000. Time Elapsed: 335.421 s Mean Reward: -0.068. Std of Reward: 0.998. Training.\n",
      "INFO:mlagents.trainers: ppo_test: RollerBallVisualBrain: Step: 41000. Time Elapsed: 343.892 s Mean Reward: 0.000. Std of Reward: 1.000. Training.\n",
      "INFO:mlagents.trainers: ppo_test: RollerBallVisualBrain: Step: 42000. Time Elapsed: 352.502 s Mean Reward: 0.064. Std of Reward: 0.998. Training.\n",
      "INFO:mlagents.trainers: ppo_test: RollerBallVisualBrain: Step: 43000. Time Elapsed: 361.198 s Mean Reward: -0.036. Std of Reward: 0.999. Training.\n",
      "INFO:mlagents.trainers: ppo_test: RollerBallVisualBrain: Step: 44000. Time Elapsed: 369.162 s Mean Reward: -0.012. Std of Reward: 1.000. Training.\n",
      "INFO:mlagents.trainers: ppo_test: RollerBallVisualBrain: Step: 45000. Time Elapsed: 377.644 s Mean Reward: -0.036. Std of Reward: 0.999. Training.\n",
      "INFO:mlagents.trainers: ppo_test: RollerBallVisualBrain: Step: 46000. Time Elapsed: 386.122 s Mean Reward: 0.083. Std of Reward: 0.997. Training.\n",
      "INFO:mlagents.trainers: ppo_test: RollerBallVisualBrain: Step: 47000. Time Elapsed: 394.568 s Mean Reward: 0.033. Std of Reward: 0.999. Training.\n",
      "INFO:mlagents.trainers: ppo_test: RollerBallVisualBrain: Step: 48000. Time Elapsed: 402.384 s Mean Reward: 0.041. Std of Reward: 0.999. Training.\n",
      "INFO:mlagents.trainers: ppo_test: RollerBallVisualBrain: Step: 49000. Time Elapsed: 410.807 s Mean Reward: 0.000. Std of Reward: 1.000. Training.\n"
     ]
    },
    {
     "name": "stdout",
     "output_type": "stream",
     "text": [
      "WARNING:tensorflow:From c:\\users\\rick\\documents\\github\\ml-agents\\ml-agents\\mlagents\\trainers\\tf_policy.py:212: The name tf.train.write_graph is deprecated. Please use tf.io.write_graph instead.\n",
      "\n"
     ]
    },
    {
     "name": "stderr",
     "output_type": "stream",
     "text": [
      "WARNING:tensorflow:From c:\\users\\rick\\documents\\github\\ml-agents\\ml-agents\\mlagents\\trainers\\tf_policy.py:212: The name tf.train.write_graph is deprecated. Please use tf.io.write_graph instead.\n",
      "\n",
      "INFO:mlagents.envs:Saved Model\n",
      "INFO:mlagents.trainers: ppo_test: RollerBallVisualBrain: Step: 50000. Time Elapsed: 420.366 s Mean Reward: -0.133. Std of Reward: 0.991. Training.\n",
      "INFO:mlagents.envs:Saved Model\n",
      "INFO:mlagents.trainers:List of nodes to export for brain :RollerBallVisualBrain\n",
      "INFO:mlagents.trainers:\tis_continuous_control\n",
      "INFO:mlagents.trainers:\tversion_number\n",
      "INFO:mlagents.trainers:\tmemory_size\n",
      "INFO:mlagents.trainers:\taction_output_shape\n",
      "INFO:mlagents.trainers:\taction\n"
     ]
    },
    {
     "name": "stdout",
     "output_type": "stream",
     "text": [
      "WARNING:tensorflow:From c:\\users\\rick\\documents\\github\\ml-agents\\ml-agents\\mlagents\\trainers\\tf_policy.py:225: convert_variables_to_constants (from tensorflow.python.framework.graph_util_impl) is deprecated and will be removed in a future version.\n",
      "Instructions for updating:\n",
      "Use `tf.compat.v1.graph_util.convert_variables_to_constants`\n"
     ]
    },
    {
     "name": "stderr",
     "output_type": "stream",
     "text": [
      "WARNING:tensorflow:From c:\\users\\rick\\documents\\github\\ml-agents\\ml-agents\\mlagents\\trainers\\tf_policy.py:225: convert_variables_to_constants (from tensorflow.python.framework.graph_util_impl) is deprecated and will be removed in a future version.\n",
      "Instructions for updating:\n",
      "Use `tf.compat.v1.graph_util.convert_variables_to_constants`\n"
     ]
    },
    {
     "name": "stdout",
     "output_type": "stream",
     "text": [
      "WARNING:tensorflow:From C:\\Users\\rick\\Anaconda3\\lib\\site-packages\\tensorflow_core\\python\\framework\\graph_util_impl.py:277: extract_sub_graph (from tensorflow.python.framework.graph_util_impl) is deprecated and will be removed in a future version.\n",
      "Instructions for updating:\n",
      "Use `tf.compat.v1.graph_util.extract_sub_graph`\n"
     ]
    },
    {
     "name": "stderr",
     "output_type": "stream",
     "text": [
      "WARNING:tensorflow:From C:\\Users\\rick\\Anaconda3\\lib\\site-packages\\tensorflow_core\\python\\framework\\graph_util_impl.py:277: extract_sub_graph (from tensorflow.python.framework.graph_util_impl) is deprecated and will be removed in a future version.\n",
      "Instructions for updating:\n",
      "Use `tf.compat.v1.graph_util.extract_sub_graph`\n"
     ]
    },
    {
     "name": "stdout",
     "output_type": "stream",
     "text": [
      "INFO:tensorflow:Froze 13 variables.\n"
     ]
    },
    {
     "name": "stderr",
     "output_type": "stream",
     "text": [
      "INFO:tensorflow:Froze 13 variables.\n"
     ]
    },
    {
     "name": "stdout",
     "output_type": "stream",
     "text": [
      "INFO:tensorflow:Converted 13 variables to const ops.\n"
     ]
    },
    {
     "name": "stderr",
     "output_type": "stream",
     "text": [
      "INFO:tensorflow:Converted 13 variables to const ops.\n"
     ]
    },
    {
     "name": "stdout",
     "output_type": "stream",
     "text": [
      "Converting ./models/ppo_test-0/RollerBallVisualBrain/frozen_graph_def.pb to ./models/ppo_test-0/RollerBallVisualBrain.nn\n",
      "WARNING:tensorflow:From c:\\users\\rick\\documents\\github\\ml-agents\\ml-agents\\mlagents\\trainers\\tensorflow_to_barracuda.py:1539: The name tf.GraphDef is deprecated. Please use tf.compat.v1.GraphDef instead.\n",
      "\n"
     ]
    },
    {
     "name": "stderr",
     "output_type": "stream",
     "text": [
      "WARNING:tensorflow:From c:\\users\\rick\\documents\\github\\ml-agents\\ml-agents\\mlagents\\trainers\\tensorflow_to_barracuda.py:1539: The name tf.GraphDef is deprecated. Please use tf.compat.v1.GraphDef instead.\n",
      "\n",
      "INFO:mlagents.trainers:Exported ./models/ppo_test-0/RollerBallVisualBrain.nn file\n"
     ]
    },
    {
     "name": "stdout",
     "output_type": "stream",
     "text": [
      "GLOBALS: 'is_continuous_control', 'version_number', 'memory_size', 'action_output_shape'\n",
      "IN: 'visual_observation_0': [-1, 84, 84, 3] => 'main_graph_0_encoder0/conv_0/BiasAdd'\n",
      "IN: 'action_masks': [-1, 1, 1, 4] => 'strided_slice_1'\n",
      "OUT: 'concat/concat', 'action_probs/action_probs', 'concat_3/concat', 'action'\n",
      "DONE: wrote ./models/ppo_test-0/RollerBallVisualBrain.nn file.\n"
     ]
    }
   ],
   "source": [
    "\n",
    "run_seed = np.random.randint(0, 10000)\n",
    "run_training(0, run_seed, defaultCommandLineOptions, Queue(), trainer_config)"
   ]
  },
  {
   "cell_type": "code",
   "execution_count": 36,
   "metadata": {},
   "outputs": [
    {
     "data": {
      "text/plain": [
       "{'default': {'trainer': 'ppo',\n",
       "  'batch_size': 32,\n",
       "  'beta': 0.005,\n",
       "  'buffer_size': 512,\n",
       "  'epsilon': 0.2,\n",
       "  'hidden_units': 128,\n",
       "  'lambd': 0.95,\n",
       "  'learning_rate': 0.0003,\n",
       "  'vis_encode_type': 'custom',\n",
       "  'max_steps': '5.0e4',\n",
       "  'normalize': True,\n",
       "  'num_epoch': 5,\n",
       "  'num_layers': 2,\n",
       "  'time_horizon': 64,\n",
       "  'sequence_length': 64,\n",
       "  'summary_freq': 1000,\n",
       "  'use_recurrent': False,\n",
       "  'memory_size': 8,\n",
       "  'curiosity_strength': 0.0,\n",
       "  'curiosity_enc_size': 1,\n",
       "  'summary_path': 'test',\n",
       "  'model_path': 'test',\n",
       "  'reward_signals': {'extrinsic': {'strength': 1.0, 'gamma': 0.99}},\n",
       "  'layers_specs': [{'type': 'conv2D',\n",
       "    'filters': 32,\n",
       "    'activation': 'relu',\n",
       "    'use_bias': True,\n",
       "    'maxPool': False,\n",
       "    'kernel_shape': (8, 8),\n",
       "    'strides': (4, 4),\n",
       "    'kernel_initializer': 'glorot_uniform',\n",
       "    'bias_initializer': 'zeros'},\n",
       "   {'type': 'conv2D',\n",
       "    'filters': 32,\n",
       "    'activation': 'relu',\n",
       "    'use_bias': True,\n",
       "    'maxPool': False,\n",
       "    'kernel_shape': (4, 4),\n",
       "    'strides': (2, 2),\n",
       "    'kernel_initializer': 'glorot_uniform',\n",
       "    'bias_initializer': 'zeros'}]}}"
      ]
     },
     "execution_count": 36,
     "metadata": {},
     "output_type": "execute_result"
    }
   ],
   "source": [
    "trainer_config"
   ]
  },
  {
   "cell_type": "code",
   "execution_count": null,
   "metadata": {},
   "outputs": [],
   "source": []
  },
  {
   "cell_type": "code",
   "execution_count": null,
   "metadata": {},
   "outputs": [],
   "source": []
  },
  {
   "cell_type": "code",
   "execution_count": null,
   "metadata": {},
   "outputs": [],
   "source": []
  },
  {
   "cell_type": "code",
   "execution_count": null,
   "metadata": {},
   "outputs": [],
   "source": []
  },
  {
   "cell_type": "code",
   "execution_count": null,
   "metadata": {},
   "outputs": [],
   "source": []
  },
  {
   "cell_type": "code",
   "execution_count": null,
   "metadata": {},
   "outputs": [],
   "source": []
  },
  {
   "cell_type": "code",
   "execution_count": null,
   "metadata": {},
   "outputs": [],
   "source": []
  },
  {
   "cell_type": "code",
   "execution_count": null,
   "metadata": {},
   "outputs": [],
   "source": []
  },
  {
   "cell_type": "code",
   "execution_count": null,
   "metadata": {},
   "outputs": [],
   "source": []
  },
  {
   "cell_type": "code",
   "execution_count": null,
   "metadata": {},
   "outputs": [],
   "source": []
  },
  {
   "cell_type": "code",
   "execution_count": null,
   "metadata": {},
   "outputs": [],
   "source": []
  },
  {
   "cell_type": "code",
   "execution_count": null,
   "metadata": {},
   "outputs": [],
   "source": []
  },
  {
   "cell_type": "code",
   "execution_count": null,
   "metadata": {},
   "outputs": [],
   "source": []
  },
  {
   "cell_type": "code",
   "execution_count": null,
   "metadata": {},
   "outputs": [],
   "source": []
  }
 ],
 "metadata": {
  "kernelspec": {
   "display_name": "Python 3",
   "language": "python",
   "name": "python3"
  },
  "language_info": {
   "codemirror_mode": {
    "name": "ipython",
    "version": 3
   },
   "file_extension": ".py",
   "mimetype": "text/x-python",
   "name": "python",
   "nbconvert_exporter": "python",
   "pygments_lexer": "ipython3",
   "version": "3.7.4"
  }
 },
 "nbformat": 4,
 "nbformat_minor": 2
}
